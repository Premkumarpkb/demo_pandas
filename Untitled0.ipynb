{
  "nbformat": 4,
  "nbformat_minor": 0,
  "metadata": {
    "colab": {
      "provenance": [],
      "authorship_tag": "ABX9TyMdsqUxWcsY6M5VAiIOxGdx",
      "include_colab_link": true
    },
    "kernelspec": {
      "name": "python3",
      "display_name": "Python 3"
    },
    "language_info": {
      "name": "python"
    }
  },
  "cells": [
    {
      "cell_type": "markdown",
      "metadata": {
        "id": "view-in-github",
        "colab_type": "text"
      },
      "source": [
        "<a href=\"https://colab.research.google.com/github/Premkumarpkb/demo_pandas/blob/main/Untitled0.ipynb\" target=\"_parent\"><img src=\"https://colab.research.google.com/assets/colab-badge.svg\" alt=\"Open In Colab\"/></a>"
      ]
    },
    {
      "cell_type": "code",
      "execution_count": 1,
      "metadata": {
        "colab": {
          "base_uri": "https://localhost:8080/"
        },
        "id": "etUZ5Gf5Bxf6",
        "outputId": "e6cc5fc3-53e7-448b-df0f-1db8953c05b7"
      },
      "outputs": [
        {
          "output_type": "execute_result",
          "data": {
            "text/plain": [
              "7"
            ]
          },
          "metadata": {},
          "execution_count": 1
        }
      ],
      "source": [
        "3+4"
      ]
    },
    {
      "cell_type": "code",
      "source": [
        "# prompt: write a program to add 2 numbers\n",
        "\n",
        "def add(x, y):\n",
        "    return x + y\n",
        "\n",
        "result = add(3, 4)\n",
        "print(result)\n"
      ],
      "metadata": {
        "id": "Ew5skeCHB0W5"
      },
      "execution_count": null,
      "outputs": []
    }
  ]
}